{
 "cells": [
  {
   "cell_type": "markdown",
   "id": "764803d9-fc81-4b1b-ab03-1ab63017005b",
   "metadata": {},
   "source": [
    "### Implement linear regression without using scikit learn"
   ]
  },
  {
   "cell_type": "code",
   "execution_count": 29,
   "id": "1694fe35-5099-4b7f-ac28-e26de180e863",
   "metadata": {},
   "outputs": [
    {
     "name": "stdout",
     "output_type": "stream",
     "text": [
      "3.75\n",
      "5.75\n",
      "22.75\n",
      "14.75\n",
      "1.5423728813559323\n",
      "-0.03389830508474656\n",
      "10.762711864406779\n"
     ]
    }
   ],
   "source": [
    "import numpy as np\n",
    "x = np.array([1, 3, 5,6])\n",
    "y = np.array([2, 4, 7, 10])\n",
    "x_mean=np.mean(x)\n",
    "y_mean=np.mean(y)\n",
    "print(x_mean)\n",
    "print(y_mean)\n",
    "\n",
    "numerator=np.sum((x-x_mean)*(y-y_mean))\n",
    "denominator=np.sum((x-x_mean)**2)\n",
    "print(numerator)\n",
    "print(denominator)\n",
    "\n",
    "slope=numerator/denominator\n",
    "print(slope)\n",
    "intercept=y_mean-(slope*x_mean)\n",
    "print(intercept)\n",
    "y_pred=intercept+(slope*7)\n",
    "print(y_pred)"
   ]
  },
  {
   "cell_type": "markdown",
   "id": "5c6c3ec1-6854-487c-b0a8-75ff9604b38c",
   "metadata": {},
   "source": [
    "### Q1.Reverse a string without using slicing."
   ]
  },
  {
   "cell_type": "code",
   "execution_count": 16,
   "id": "1b3a94e1-7301-486e-ad69-82b841ec212b",
   "metadata": {},
   "outputs": [
    {
     "data": {
      "text/plain": [
       "'!dlroW olleH'"
      ]
     },
     "execution_count": 16,
     "metadata": {},
     "output_type": "execute_result"
    }
   ],
   "source": [
    "string = \"Hello World!\"\n",
    "reverse=\"\"\n",
    "for i in string:\n",
    "    reverse=i+reverse\n",
    "\n",
    "reverse"
   ]
  },
  {
   "cell_type": "code",
   "execution_count": null,
   "id": "28feb1a9-f712-468f-b9bd-8d2569d2c788",
   "metadata": {},
   "outputs": [],
   "source": []
  },
  {
   "cell_type": "markdown",
   "id": "9cf6f0ee-4072-493a-9ab4-0cfffa09ac88",
   "metadata": {},
   "source": [
    "### Q2. Check if two strings are anagrams."
   ]
  },
  {
   "cell_type": "code",
   "execution_count": 22,
   "id": "281cb288-7867-46b1-98ae-f832946aad4d",
   "metadata": {},
   "outputs": [
    {
     "name": "stdin",
     "output_type": "stream",
     "text": [
      "first string is : how\n",
      "second string is : wek\n"
     ]
    },
    {
     "name": "stdout",
     "output_type": "stream",
     "text": [
      "two strings are not anagrams\n"
     ]
    }
   ],
   "source": [
    "string1 = input(\"first string is :\").lower()\n",
    "string2 = input(\"second string is :\").lower()\n",
    "if sorted(string1)==sorted(string2):\n",
    "    print(\"two strings are anagrams\")\n",
    "else:\n",
    "    print('two strings are not anagrams')"
   ]
  },
  {
   "cell_type": "markdown",
   "id": "7bdc080d-b746-4a49-921d-5e9cacec535c",
   "metadata": {},
   "source": [
    "### Q3. Find the first non-repeating character in a string."
   ]
  },
  {
   "cell_type": "code",
   "execution_count": 13,
   "id": "1a8510d2-6173-4ec6-b821-2d2962203855",
   "metadata": {},
   "outputs": [
    {
     "name": "stdout",
     "output_type": "stream",
     "text": [
      "i\n"
     ]
    }
   ],
   "source": [
    "string1 = \"give meg water\"\n",
    "for i in string1:\n",
    "    if string1.count(i)==1:\n",
    "        print(i)\n",
    "        break"
   ]
  },
  {
   "cell_type": "markdown",
   "id": "f0506b34-fc98-4820-ae9f-01bda19e1149",
   "metadata": {},
   "source": [
    "### Q4. Count the frequency of each character in a string."
   ]
  },
  {
   "cell_type": "code",
   "execution_count": 29,
   "id": "6689d923-3c49-47a4-a1d3-4c055538df53",
   "metadata": {},
   "outputs": [
    {
     "data": {
      "text/plain": [
       "{'i': 2,\n",
       " 'a': 3,\n",
       " 'm': 1,\n",
       " 'd': 2,\n",
       " 't': 3,\n",
       " 's': 2,\n",
       " 'c': 2,\n",
       " 'e': 3,\n",
       " 'n': 2,\n",
       " 'u': 1}"
      ]
     },
     "execution_count": 29,
     "metadata": {},
     "output_type": "execute_result"
    }
   ],
   "source": [
    "string1 = \"Iamdatasciencestudent\"\n",
    "dic={}\n",
    "for i in string1.lower():\n",
    "    if i in dic:\n",
    "        dic[i]+=1\n",
    "    else:\n",
    "        dic[i]=1\n",
    "\n",
    "dic"
   ]
  },
  {
   "cell_type": "markdown",
   "id": "c98b2cab-6012-4c81-b063-b5736665f2c0",
   "metadata": {},
   "source": [
    "### Q5. Remove all duplicate characters from a string."
   ]
  },
  {
   "cell_type": "code",
   "execution_count": 2,
   "id": "e73b8b58-ae4a-4132-9a0f-bcce7ebe806f",
   "metadata": {},
   "outputs": [
    {
     "data": {
      "text/plain": [
       "{'I', 'a', 'd', 'm', 's', 't'}"
      ]
     },
     "execution_count": 2,
     "metadata": {},
     "output_type": "execute_result"
    }
   ],
   "source": [
    "string1 = \"Iamdatas\"\n",
    "s=set(string1)\n",
    "s"
   ]
  },
  {
   "cell_type": "code",
   "execution_count": 3,
   "id": "99b708cb-e2cc-4b5e-a2c2-a1a884dc539d",
   "metadata": {},
   "outputs": [
    {
     "data": {
      "text/plain": [
       "['I', 'a', 'm', 'd', 't', 's']"
      ]
     },
     "execution_count": 3,
     "metadata": {},
     "output_type": "execute_result"
    }
   ],
   "source": [
    "string1 = \"Iamdatas\"\n",
    "s=[]\n",
    "for i in string1:\n",
    "    if i not in s:\n",
    "        s.append(i)\n",
    "\n",
    "s"
   ]
  },
  {
   "cell_type": "markdown",
   "id": "7602ff2c-688d-46d4-bc08-48e1dad166c9",
   "metadata": {},
   "source": [
    "### Q6. Check if a string is a palindrome ignoring spaces and case."
   ]
  },
  {
   "cell_type": "code",
   "execution_count": 10,
   "id": "39f0d61f-1403-460e-8db7-552967aae080",
   "metadata": {},
   "outputs": [
    {
     "name": "stdin",
     "output_type": "stream",
     "text": [
      "enter string pa ap\n"
     ]
    },
    {
     "name": "stdout",
     "output_type": "stream",
     "text": [
      "this is palindrome\n"
     ]
    }
   ],
   "source": [
    "string1 = input(\"enter string\").strip()\n",
    "if string1[0:]==string1[::-1]:\n",
    "    print('this is palindrome')\n",
    "else:\n",
    "    print('not a palindrome')"
   ]
  },
  {
   "cell_type": "code",
   "execution_count": null,
   "id": "342dd935-12dd-4bfe-87c9-c3e01729757f",
   "metadata": {},
   "outputs": [],
   "source": [
    "# Check if a String is a Palindrome\n",
    "s=\"helleh\"\n",
    "reverse=\"\"\n",
    "for i in s:\n",
    "    reverse=i+reverse\n",
    "if s==reverse:\n",
    "    print('yes')\n",
    "else:\n",
    "    print('no')"
   ]
  },
  {
   "cell_type": "markdown",
   "id": "f7437299-b120-44a8-af37-8ea37633ed47",
   "metadata": {},
   "source": [
    "### Q7. Find all substrings of a given string."
   ]
  },
  {
   "cell_type": "code",
   "execution_count": 12,
   "id": "bb6fa275-3ee1-453f-9a51-30c4f490849d",
   "metadata": {},
   "outputs": [
    {
     "data": {
      "text/plain": [
       "['a', 'ab', 'abc', 'b', 'bc', 'c']"
      ]
     },
     "execution_count": 12,
     "metadata": {},
     "output_type": "execute_result"
    }
   ],
   "source": [
    "string=\"abc\"\n",
    "substring=[]\n",
    "for i in range(len(string)):\n",
    "    for j in range(i+1, len(string)+1):\n",
    "        substring.append(string[i:j])\n",
    "\n",
    "substring"
   ]
  },
  {
   "cell_type": "markdown",
   "id": "fb50490f-cf7b-4b02-9ee4-a9ed935bd964",
   "metadata": {},
   "source": [
    "### Q8. Replace every vowel in a string with *."
   ]
  },
  {
   "cell_type": "code",
   "execution_count": 21,
   "id": "b6ef00ec-3e26-4e62-9969-4e6427340ec0",
   "metadata": {},
   "outputs": [
    {
     "name": "stdout",
     "output_type": "stream",
     "text": [
      "r*m*v*v*w*l\n"
     ]
    }
   ],
   "source": [
    "string = \"removevowel\"\n",
    "vowels = \"aieouAIEOU\"\n",
    "for i in string:\n",
    "    if i in vowels:\n",
    "        string=string.replace(i,'*')\n",
    "\n",
    "print(string)"
   ]
  },
  {
   "cell_type": "markdown",
   "id": "f5e204b9-7fce-4071-bcb8-a11535ce3f06",
   "metadata": {},
   "source": [
    "### Q9. Find the longest word in a sentence."
   ]
  },
  {
   "cell_type": "code",
   "execution_count": 24,
   "id": "7c2f40cf-d496-4b7a-9ed7-5c4db35b0ada",
   "metadata": {},
   "outputs": [
    {
     "name": "stdout",
     "output_type": "stream",
     "text": [
      "[4, 3, 7, 4, 2, 8]\n",
      "sentence\n"
     ]
    }
   ],
   "source": [
    "sentence = \"find the longest word in sentence\"\n",
    "sentence=sentence.split()\n",
    "length=[]\n",
    "for i in sentence:\n",
    "    length.append(len(i))\n",
    "\n",
    "print(length)\n",
    "for j in sentence:\n",
    "    if max(length)==len(j):\n",
    "        print(j)"
   ]
  },
  {
   "cell_type": "markdown",
   "id": "1a67decb-50fa-4070-8e98-5cdb0de8f195",
   "metadata": {},
   "source": [
    "### Q10. Capitalize the first letter of each word in a string."
   ]
  },
  {
   "cell_type": "code",
   "execution_count": 27,
   "id": "afda6510-bd4b-435e-8db6-8c84ec5827b6",
   "metadata": {},
   "outputs": [
    {
     "name": "stdout",
     "output_type": "stream",
     "text": [
      "My Name Is Rushikesh Chavan\n"
     ]
    }
   ],
   "source": [
    "string = \"my name is rushikesh chavan\"\n",
    "title_string = string.title()\n",
    "print(title_string)"
   ]
  },
  {
   "cell_type": "markdown",
   "id": "86ee9f5e-5fe2-4ca1-82f7-f1d1c23746ac",
   "metadata": {},
   "source": [
    "### Q11. Count how many times each word appears in a sentence."
   ]
  },
  {
   "cell_type": "code",
   "execution_count": 33,
   "id": "07ebf680-be4a-42f7-a592-1ca79c8da25d",
   "metadata": {},
   "outputs": [
    {
     "name": "stdout",
     "output_type": "stream",
     "text": [
      "{'i': 2, 'am': 2, 'not': 2, 'gone': 2, 'to': 2, 'going': 1, 'play': 1}\n"
     ]
    }
   ],
   "source": [
    "string = \"i am not gone to i not gone am going to play\"\n",
    "string = string.split()\n",
    "dic = {}\n",
    "for i in string:\n",
    "    if i in dic:\n",
    "        dic[i]+=1\n",
    "    else:\n",
    "        dic[i]=1\n",
    "\n",
    "print(dic)"
   ]
  },
  {
   "cell_type": "markdown",
   "id": "84382c8c-11e9-4832-9aec-91acb5aa6a87",
   "metadata": {},
   "source": [
    "### Q12. Remove all special characters from a string."
   ]
  },
  {
   "cell_type": "code",
   "execution_count": 58,
   "id": "648ec86b-cbaf-4f51-9b3a-3e541db97c70",
   "metadata": {},
   "outputs": [
    {
     "name": "stdout",
     "output_type": "stream",
     "text": [
      "rushi123chavan"
     ]
    }
   ],
   "source": [
    "string = \"rushi@#$%123%$#@chavan\"\n",
    "special_char = \"@#$%^&*!\"\n",
    "for i in string:\n",
    "    if i not in special_char:\n",
    "        print(i, end='')"
   ]
  },
  {
   "cell_type": "markdown",
   "id": "74083c9f-3caa-4cb0-8199-145a88150d76",
   "metadata": {},
   "source": [
    "### Q14. Compress a string using run-length encoding (aaabb → a3b2)."
   ]
  },
  {
   "cell_type": "code",
   "execution_count": 13,
   "id": "41a9d642-e468-4f1d-b91f-024ce63afda7",
   "metadata": {},
   "outputs": [
    {
     "data": {
      "text/plain": [
       "'a3b3c1d2c1d1'"
      ]
     },
     "execution_count": 13,
     "metadata": {},
     "output_type": "execute_result"
    }
   ],
   "source": [
    "string = \"aaabbbcddcd\"\n",
    "r=[]\n",
    "count=1\n",
    "for i in range(1,len(string)):\n",
    "    if string[i]==string[i-1]:\n",
    "        count+=1\n",
    "    else:\n",
    "        r.append(string[i-1]+str(count))\n",
    "        count=1\n",
    "\n",
    "r.append(string[-1]+str(count))\n",
    "''.join(r)"
   ]
  },
  {
   "cell_type": "markdown",
   "id": "9b330c8a-79c8-44d6-9b06-bcf4fd05fa46",
   "metadata": {},
   "source": [
    "### Q15. Find the longest substring without repeating characters."
   ]
  },
  {
   "cell_type": "code",
   "execution_count": 25,
   "id": "8ad9fa57-6cca-4cc5-9913-029bb056428f",
   "metadata": {},
   "outputs": [
    {
     "name": "stdout",
     "output_type": "stream",
     "text": [
      "adfgczx\n"
     ]
    }
   ],
   "source": [
    "a = 'adfgczxcv'\n",
    "res = ''\n",
    "for i in range(len(a)):\n",
    "    s = ''\n",
    "    for j in a[i:]:\n",
    "        if j in s: break\n",
    "        s += j\n",
    "    if len(s) > len(res): \n",
    "        res = s\n",
    "print(res)\n"
   ]
  },
  {
   "cell_type": "markdown",
   "id": "41a8032b-1a2f-47ba-833d-33ae4cabd9eb",
   "metadata": {},
   "source": [
    "### Q16. Swap case in a string (aBc → AbC)."
   ]
  },
  {
   "cell_type": "code",
   "execution_count": 31,
   "id": "af8e0a5d-bc0d-46b3-aa6d-2e3b52d2ed2a",
   "metadata": {},
   "outputs": [
    {
     "name": "stdout",
     "output_type": "stream",
     "text": [
      "aaCVB\n"
     ]
    }
   ],
   "source": [
    "a='AAcvb'\n",
    "s=a.swapcase()\n",
    "print(s)"
   ]
  },
  {
   "cell_type": "markdown",
   "id": "8fe507b4-044c-48e6-86f8-898e8ae7e11a",
   "metadata": {},
   "source": [
    "### Q17. create dictionary in which keys are a to z and values are there ascii number."
   ]
  },
  {
   "cell_type": "code",
   "execution_count": 1,
   "id": "251fd54c-1df9-4c0b-81d2-d5dd30a6f058",
   "metadata": {},
   "outputs": [
    {
     "data": {
      "text/plain": [
       "{'A': 65,\n",
       " 'B': 66,\n",
       " 'C': 67,\n",
       " 'D': 68,\n",
       " 'E': 69,\n",
       " 'F': 70,\n",
       " 'G': 71,\n",
       " 'H': 72,\n",
       " 'I': 73,\n",
       " 'J': 74,\n",
       " 'K': 75,\n",
       " 'L': 76,\n",
       " 'M': 77,\n",
       " 'N': 78,\n",
       " 'O': 79,\n",
       " 'P': 80,\n",
       " 'Q': 81,\n",
       " 'R': 82,\n",
       " 'S': 83,\n",
       " 'T': 84,\n",
       " 'U': 85,\n",
       " 'V': 86,\n",
       " 'W': 87,\n",
       " 'X': 88,\n",
       " 'Y': 89,\n",
       " 'Z': 90}"
      ]
     },
     "execution_count": 1,
     "metadata": {},
     "output_type": "execute_result"
    }
   ],
   "source": [
    "d={}\n",
    "for i in range(65,91):\n",
    "    if chr(i) in d:\n",
    "        d[chr(i)]=1\n",
    "    else:\n",
    "        d[chr(i)]=i\n",
    "\n",
    "d"
   ]
  },
  {
   "cell_type": "markdown",
   "id": "bc468b2e-09a3-45d2-8ef6-7ba1c0576a6b",
   "metadata": {},
   "source": [
    "### Q18. Count vowels and consonants separately."
   ]
  },
  {
   "cell_type": "code",
   "execution_count": 1,
   "id": "749b603d-e018-4b9a-a617-536f5f55f5f7",
   "metadata": {},
   "outputs": [
    {
     "name": "stdout",
     "output_type": "stream",
     "text": [
      "['a', 'i', 'e']\n",
      "['l', 'l', 's', 'w', 'l', 'l']\n"
     ]
    }
   ],
   "source": [
    "string=\"alliswell\"\n",
    "vowels=\"AEIOUaeiou\"\n",
    "vowel=[]\n",
    "consonant=[]\n",
    "for i in string:\n",
    "    if i in vowels:\n",
    "        vowel.append(i)\n",
    "    else:\n",
    "        consonant.append(i)\n",
    "print(vowel)\n",
    "print(consonant)"
   ]
  },
  {
   "cell_type": "markdown",
   "id": "a9d5276d-e41d-470c-9d8f-48e046a84f16",
   "metadata": {},
   "source": [
    "### Q19. Find the second most frequent character in a string."
   ]
  },
  {
   "cell_type": "code",
   "execution_count": 42,
   "id": "3a525459-c7c2-44a6-8c97-f557b854c966",
   "metadata": {},
   "outputs": [
    {
     "data": {
      "text/plain": [
       "3"
      ]
     },
     "execution_count": 42,
     "metadata": {},
     "output_type": "execute_result"
    }
   ],
   "source": [
    "string = \"aaaabbcccd\"\n",
    "from collections import Counter\n",
    "a=dict(Counter(string))\n",
    "sorted(a.values())[-2]"
   ]
  },
  {
   "cell_type": "markdown",
   "id": "c2e501c5-1d73-4f34-9041-d74ae7eae5d1",
   "metadata": {},
   "source": [
    "### put numbers after each characters in ascending and descending "
   ]
  },
  {
   "cell_type": "code",
   "execution_count": 28,
   "id": "5c35ba9a-cefa-49dd-85c1-2f235db1d756",
   "metadata": {},
   "outputs": [
    {
     "name": "stdout",
     "output_type": "stream",
     "text": [
      "r1u2s3h4i5\n",
      "C6h5a4v3a2n1"
     ]
    }
   ],
   "source": [
    "string1='rushi'\n",
    "# Ascending\n",
    "string2=[]\n",
    "for i in range(len(string1)):\n",
    "    string2.append(string1[i])\n",
    "    string2.append(i+1)\n",
    "for i in string2:\n",
    "    print(i,end='')\n",
    "print()\n",
    "# Descending\n",
    "string3=\"Chavan\"\n",
    "string4=[]\n",
    "for i in range(len(string3)):\n",
    "    string4.append(string3[i])\n",
    "    string4.append(len(string3)-i)\n",
    "for i in string4:\n",
    "    print(i,end='')"
   ]
  },
  {
   "cell_type": "markdown",
   "id": "b727886d-e2bb-42da-98a1-d5890c4a8033",
   "metadata": {},
   "source": [
    "## List"
   ]
  },
  {
   "cell_type": "markdown",
   "id": "46e8b011-10e7-442c-af8c-5f371f10bee9",
   "metadata": {},
   "source": [
    "### Sum of Elements in a List without using any in built function"
   ]
  },
  {
   "cell_type": "code",
   "execution_count": 10,
   "id": "5e64d06c-b18e-4105-b05b-274c86c6cedd",
   "metadata": {},
   "outputs": [
    {
     "name": "stdout",
     "output_type": "stream",
     "text": [
      "306\n"
     ]
    }
   ],
   "source": [
    "l = [5,12,75,53,105,30,26]\n",
    "count=0\n",
    "for i in l:\n",
    "    count+=i\n",
    "print(count)"
   ]
  },
  {
   "cell_type": "markdown",
   "id": "7c73d4f6-d884-440a-a43f-736a2480aeff",
   "metadata": {},
   "source": [
    "### Find Maximum Element in a List without using any in built function"
   ]
  },
  {
   "cell_type": "code",
   "execution_count": 9,
   "id": "107d4e14-01a5-472b-a8cf-f2c7c80cbdba",
   "metadata": {},
   "outputs": [
    {
     "name": "stdout",
     "output_type": "stream",
     "text": [
      "105\n"
     ]
    }
   ],
   "source": [
    "\n",
    "l = [5,12,75,53,105,30,26]\n",
    "a=l[0]\n",
    "for i in l:\n",
    "    if i>a:\n",
    "        a=i\n",
    "print(a)"
   ]
  },
  {
   "cell_type": "markdown",
   "id": "b1e8c9bb-6731-46cc-9133-8182432f6086",
   "metadata": {},
   "source": [
    "### Count Number of Elements in a List without using any in built function"
   ]
  },
  {
   "cell_type": "code",
   "execution_count": 7,
   "id": "bc06dca5-c715-4385-a559-cd9192c62a25",
   "metadata": {},
   "outputs": [
    {
     "name": "stdout",
     "output_type": "stream",
     "text": [
      "9\n"
     ]
    },
    {
     "data": {
      "text/plain": [
       "9"
      ]
     },
     "execution_count": 7,
     "metadata": {},
     "output_type": "execute_result"
    }
   ],
   "source": [
    "l = [5,12,75,53,105,30,26,5,12]\n",
    "print(len(l))\n",
    "count=0\n",
    "for i in l:\n",
    "    count+=1\n",
    "count"
   ]
  },
  {
   "cell_type": "markdown",
   "id": "751e270e-01f5-4b19-8284-d975f7c2266e",
   "metadata": {},
   "source": [
    "### Sort a List in Ascending Order without using any in built function"
   ]
  },
  {
   "cell_type": "code",
   "execution_count": 6,
   "id": "19931949-4b9a-4b7d-be5e-52fd8cc2e55e",
   "metadata": {},
   "outputs": [
    {
     "name": "stdout",
     "output_type": "stream",
     "text": [
      "[5, 5, 12, 12, 26, 30, 53, 75, 105]\n"
     ]
    }
   ],
   "source": [
    "l = [5,12,75,53,105,30,26,5,12]\n",
    "a=0\n",
    "for i in l:\n",
    "    a+=1\n",
    "# print(a)\n",
    "for i in range(a):\n",
    "    for j in range(a-1):\n",
    "        if l[j]>l[j+1]:\n",
    "            temp=l[j]\n",
    "            l[j]=l[j+1]\n",
    "            l[j+1]=temp\n",
    "print(l)"
   ]
  },
  {
   "cell_type": "markdown",
   "id": "87aaeb15-4ac5-4563-bd2f-d52007baecbe",
   "metadata": {},
   "source": [
    "### Find Second Largest Number in a List without using any in built function"
   ]
  },
  {
   "cell_type": "code",
   "execution_count": 3,
   "id": "ca124145-8ced-4d90-a110-41d6b7a1989a",
   "metadata": {},
   "outputs": [
    {
     "name": "stdout",
     "output_type": "stream",
     "text": [
      "75\n"
     ]
    }
   ],
   "source": [
    "l = [5,12,75,53,105,30,26,5,12]\n",
    "largest=l[0]\n",
    "for i in l:\n",
    "    if i>largest:\n",
    "        largest=i\n",
    "second_largest=None\n",
    "for i in l:\n",
    "    if i != largest:\n",
    "        if second_largest is None or i>second_largest:\n",
    "            second_largest=i\n",
    "\n",
    "print(second_largest)"
   ]
  },
  {
   "cell_type": "markdown",
   "id": "18eaac11-7709-4106-b804-0a8c15144aae",
   "metadata": {},
   "source": [
    "### Check for Prime Number without using any in built function"
   ]
  },
  {
   "cell_type": "code",
   "execution_count": null,
   "id": "bf2099e8-60e6-427d-999d-126eef4ae4d3",
   "metadata": {},
   "outputs": [],
   "source": [
    "n=23\n",
    "for i in range(2,n):\n",
    "    if n%i==0:\n",
    "        print('not prime')\n",
    "        break\n",
    "else:\n",
    "    print('prime')"
   ]
  },
  {
   "cell_type": "markdown",
   "id": "0ebbf1d9-e704-4307-b712-808f7a175f57",
   "metadata": {},
   "source": [
    "### Reverse a List without using any in built function"
   ]
  },
  {
   "cell_type": "code",
   "execution_count": null,
   "id": "31c9951a-046a-4518-9486-be70b5b4dc30",
   "metadata": {},
   "outputs": [],
   "source": [
    "l = [5,12,75,53,105,30,26]\n",
    "n=0\n",
    "for i in l:\n",
    "    n+=1\n",
    "i=n-1\n",
    "while i>=0:\n",
    "    print(l[i])\n",
    "    i-=1"
   ]
  },
  {
   "cell_type": "markdown",
   "id": "6a9ee252-add0-4c6d-81c8-6b7ff659197b",
   "metadata": {},
   "source": [
    "### Count Vowels in a String without using any in built function"
   ]
  },
  {
   "cell_type": "code",
   "execution_count": 2,
   "id": "9f4d779c-145e-4079-83e2-d2acdd71638f",
   "metadata": {},
   "outputs": [
    {
     "name": "stdout",
     "output_type": "stream",
     "text": [
      "3\n"
     ]
    }
   ],
   "source": [
    "string=\"vowelse\"\n",
    "vowels=\"aieou\"\n",
    "count=0\n",
    "for i in string:\n",
    "    if i in vowels:\n",
    "        count+=1\n",
    "print(count)"
   ]
  },
  {
   "cell_type": "markdown",
   "id": "f9c238f1-a855-4a0d-abb9-e3332177a7f9",
   "metadata": {},
   "source": [
    "### Find the GCD of Two Numbers without using any in built function"
   ]
  },
  {
   "cell_type": "code",
   "execution_count": 11,
   "id": "1625c91b-7a32-49dc-88a8-fb7eb214b2ee",
   "metadata": {},
   "outputs": [
    {
     "name": "stdout",
     "output_type": "stream",
     "text": [
      "[1, 2, 3, 5, 6, 10, 15]\n",
      "[1, 2, 3, 4, 6]\n"
     ]
    },
    {
     "data": {
      "text/plain": [
       "6"
      ]
     },
     "execution_count": 11,
     "metadata": {},
     "output_type": "execute_result"
    }
   ],
   "source": [
    "a=30\n",
    "b=12\n",
    "factorsofa=[]\n",
    "factorsofb=[]\n",
    "for i in range(1,a):\n",
    "    if a%i==0:\n",
    "        factorsofa.append(i)\n",
    "for i in range(1,b):\n",
    "    if b%i==0:\n",
    "        factorsofb.append(i)\n",
    "print(factorsofa)\n",
    "print(factorsofb)\n",
    "gcd=[]\n",
    "for i in factorsofa:\n",
    "    if i in factorsofb:\n",
    "        gcd.append(i)\n",
    "\n",
    "largest=gcd[0]\n",
    "for i in gcd:\n",
    "    if i>largest:\n",
    "        largest=i\n",
    "\n",
    "largest"
   ]
  },
  {
   "cell_type": "markdown",
   "id": "9747ef32-e87d-40c6-a8da-79c2ae50ac5f",
   "metadata": {},
   "source": [
    "### Remove one element using lambda function"
   ]
  },
  {
   "cell_type": "code",
   "execution_count": null,
   "id": "7de4a331-fc87-4661-b954-36bcb42b2f73",
   "metadata": {},
   "outputs": [],
   "source": [
    "l=[1,2,3,4]\n",
    "s=list(filter(lambda x:x!=2, l))\n",
    "print(s)"
   ]
  },
  {
   "cell_type": "markdown",
   "id": "8cfcf631-a919-4300-af73-1f418940014b",
   "metadata": {},
   "source": [
    "### check if the number is power of 2 or not"
   ]
  },
  {
   "cell_type": "code",
   "execution_count": 13,
   "id": "ef32c07d-12de-48c3-a6f9-5b4429bc0eee",
   "metadata": {},
   "outputs": [
    {
     "name": "stdin",
     "output_type": "stream",
     "text": [
      " 32\n"
     ]
    },
    {
     "name": "stdout",
     "output_type": "stream",
     "text": [
      "yes\n"
     ]
    }
   ],
   "source": [
    "n=int(input(\"\"))\n",
    "if n>0 and (n & (n-1)) == 0:\n",
    "    print('yes')\n",
    "else:\n",
    "    print('no')"
   ]
  },
  {
   "cell_type": "markdown",
   "id": "ecc4e233-a808-4dc1-a853-cd72e1b34509",
   "metadata": {},
   "source": [
    "### fibonacci series "
   ]
  },
  {
   "cell_type": "code",
   "execution_count": null,
   "id": "560e3b57-2306-4b76-ae8b-3623cf30e1b9",
   "metadata": {},
   "outputs": [],
   "source": [
    "a,b=0,1\n",
    "for i in range(6):\n",
    "    print(a)\n",
    "    a,b=b,a+b"
   ]
  },
  {
   "cell_type": "markdown",
   "id": "bd077304-d24b-4166-ad75-e3e928944dae",
   "metadata": {},
   "source": [
    "### Q1. Find the second largest element in a list."
   ]
  },
  {
   "cell_type": "code",
   "execution_count": 36,
   "id": "a3f78e04-bac8-4ea8-af3d-9f48fe892c7b",
   "metadata": {},
   "outputs": [
    {
     "data": {
      "text/plain": [
       "8"
      ]
     },
     "execution_count": 36,
     "metadata": {},
     "output_type": "execute_result"
    }
   ],
   "source": [
    "list_1=[1,9,8,4,5,6,7,5,6,7,1,3,2]\n",
    "sort=sorted(list_1)\n",
    "sort[-2]"
   ]
  },
  {
   "cell_type": "markdown",
   "id": "78788e70-f074-484d-b407-13216d9231d8",
   "metadata": {},
   "source": [
    "### Q2. Find duplicates in a list and store them in another list."
   ]
  },
  {
   "cell_type": "code",
   "execution_count": 41,
   "id": "90be3013-9324-43e2-9c4c-f81113388762",
   "metadata": {},
   "outputs": [
    {
     "name": "stdout",
     "output_type": "stream",
     "text": [
      "[1, 5, 6, 7, 5, 6, 7, 1]\n"
     ]
    }
   ],
   "source": [
    "list_1=[1,9,8,4,5,6,7,5,6,7,1,3,2]\n",
    "dupli=[]\n",
    "for i in list_1:\n",
    "    if list_1.count(i)>1:\n",
    "        dupli.append(i)\n",
    "print(dupli)"
   ]
  },
  {
   "cell_type": "markdown",
   "id": "7527eef5-5def-4678-8770-7203068d94fc",
   "metadata": {},
   "source": [
    "### Q3. Rearrange a list so that positive and negative numbers alternate."
   ]
  },
  {
   "cell_type": "code",
   "execution_count": 49,
   "id": "448720fd-501e-4897-b80b-a42080805e78",
   "metadata": {},
   "outputs": [
    {
     "data": {
      "text/plain": [
       "[1, -4, 8, -5, 6, -7, 5, -6, 7, -3, 1, -2]"
      ]
     },
     "execution_count": 49,
     "metadata": {},
     "output_type": "execute_result"
    }
   ],
   "source": [
    "list_1=[1,8,-4,-5,6,-7,5,-6,7,1,-3,-2]\n",
    "pos=[]\n",
    "neg=[]\n",
    "for i in list_1:\n",
    "    if i>=0:\n",
    "        pos.append(i)\n",
    "    else:\n",
    "        neg.append(i)\n",
    "\n",
    "res=[]\n",
    "for i,j in zip(pos,neg):\n",
    "    res.append(i)\n",
    "    res.append(j)\n",
    "\n",
    "res"
   ]
  },
  {
   "cell_type": "code",
   "execution_count": 14,
   "id": "d620aa66-ca3d-4215-9cef-4ede198149df",
   "metadata": {},
   "outputs": [
    {
     "name": "stdout",
     "output_type": "stream",
     "text": [
      "[1, 8, 6, 5, 7, 1]\n",
      "[-4, -5, -7, -6, -3, -2]\n",
      "[(1, -4), (8, -5), (6, -7), (5, -6), (7, -3), (1, -2)]\n"
     ]
    }
   ],
   "source": [
    "list_1=[1,8,-4,-5,6,-7,5,-6,7,1,-3,-2]\n",
    "pos=[]\n",
    "neg=[]\n",
    "for i in list_1:\n",
    "    if i>=0:\n",
    "        pos.append(i)\n",
    "    else:\n",
    "        neg.append(i)\n",
    "\n",
    "print(pos)\n",
    "print(neg)\n",
    "new=zip(pos,neg)\n",
    "print(list(new))"
   ]
  },
  {
   "cell_type": "markdown",
   "id": "86c08425-8fa3-4956-b9fb-62bdd96d498f",
   "metadata": {},
   "source": [
    "### Q4. Create a list of squares of numbers without using loops."
   ]
  },
  {
   "cell_type": "code",
   "execution_count": 24,
   "id": "2d3a6019-427e-481f-86e1-c65c58d46b27",
   "metadata": {},
   "outputs": [
    {
     "data": {
      "text/plain": [
       "[1, 81, 64, 16, 25, 36]"
      ]
     },
     "execution_count": 24,
     "metadata": {},
     "output_type": "execute_result"
    }
   ],
   "source": [
    "list_1=[1,9,8,4,5,6]\n",
    "a=map(lambda x:x**2, list_1)\n",
    "list(a)"
   ]
  },
  {
   "cell_type": "markdown",
   "id": "8e5bb3db-d685-4f91-b3d8-29697c006cc3",
   "metadata": {},
   "source": [
    "### Q5. Find the difference between two lists."
   ]
  },
  {
   "cell_type": "code",
   "execution_count": 32,
   "id": "b56e07e2-e9ea-48d9-af01-64fd0d7e5523",
   "metadata": {},
   "outputs": [
    {
     "data": {
      "text/plain": [
       "[1, 90, 9, 10]"
      ]
     },
     "execution_count": 32,
     "metadata": {},
     "output_type": "execute_result"
    }
   ],
   "source": [
    "list_1=[1,9,8,4,5,6]\n",
    "list_2=[10,90,8,4,5,6]\n",
    "new=list(set(list_1) ^ set(list_2))\n",
    "new"
   ]
  },
  {
   "cell_type": "code",
   "execution_count": 25,
   "id": "b2361a92-887a-4735-a378-57d1b901e0e0",
   "metadata": {},
   "outputs": [
    {
     "name": "stdout",
     "output_type": "stream",
     "text": [
      "1\n",
      "9\n"
     ]
    }
   ],
   "source": [
    "list_1=[1,9,8,4,5,6]\n",
    "list_2=[10,90,8,4,5,6]\n",
    "for i in list_1:\n",
    "    if i not in list_2:\n",
    "        print(i)"
   ]
  },
  {
   "cell_type": "markdown",
   "id": "f55f8ccb-f503-41c0-b820-8e9312f6c5fc",
   "metadata": {},
   "source": [
    "### Flatten nested list "
   ]
  },
  {
   "cell_type": "code",
   "execution_count": null,
   "id": "208fa3e1-59ac-44e0-adea-cc84a9286b66",
   "metadata": {},
   "outputs": [],
   "source": [
    "l1=[1, [2, 3], 4, [5, 6,[1,2,3]]]\n",
    "l2=[]\n",
    "for i in l1:\n",
    "    if isinstance(i, list):\n",
    "        for j in i:\n",
    "            if isinstance(j,list):\n",
    "                for k in j:\n",
    "                    l2.append(k)\n",
    "            else:\n",
    "                l2.append(j)\n",
    "    else:\n",
    "        l2.append(i)\n",
    "\n",
    "l2"
   ]
  },
  {
   "cell_type": "markdown",
   "id": "28e25479-a762-46c3-880f-b292f4f4ef48",
   "metadata": {},
   "source": [
    "### Q6. Sort a list of tuples by the second element."
   ]
  },
  {
   "cell_type": "code",
   "execution_count": 44,
   "id": "98549505-6ee0-43dc-8fba-76f554c6a600",
   "metadata": {},
   "outputs": [
    {
     "name": "stdout",
     "output_type": "stream",
     "text": [
      "[(1, -7), (1, -6), (5, -5), (6, -4), (7, -3), (8, -2)]\n"
     ]
    }
   ],
   "source": [
    "a=[(1, -4), (8, -5), (6, -7), (5, -6), (7, -3), (1, -2)]\n",
    "l=[]\n",
    "s=[]\n",
    "for i in a:\n",
    "    l.append(i[1])\n",
    "ll=sorted(l)\n",
    "for i in a:\n",
    "    s.append(i[0])\n",
    "ss=sorted(s)\n",
    "d=list(zip(ss,ll))\n",
    "print(d)"
   ]
  },
  {
   "cell_type": "markdown",
   "id": "a38169f7-fe32-4687-979b-ee6f769ef89b",
   "metadata": {},
   "source": [
    "### Q7. Find the most frequent element in a list."
   ]
  },
  {
   "cell_type": "code",
   "execution_count": 77,
   "id": "0b083c2b-6b3a-46bf-84a0-67da3263053b",
   "metadata": {},
   "outputs": [
    {
     "name": "stdout",
     "output_type": "stream",
     "text": [
      "{1: 3, 9: 1, 8: 2, 4: 2, 5: 6, 6: 1, 2: 2, 3: 2, 89: 1, 65: 1}\n"
     ]
    },
    {
     "data": {
      "text/plain": [
       "3"
      ]
     },
     "execution_count": 77,
     "metadata": {},
     "output_type": "execute_result"
    }
   ],
   "source": [
    "list_1=[1,9,8,4,5,6,1,2,3,1,5,89,8,65,2,5,5,4,3,5,5,]\n",
    "d={}\n",
    "for i in list_1:\n",
    "    if i in d:\n",
    "        d[i]+=1\n",
    "    else:\n",
    "        d[i]=1\n",
    "\n",
    "print(d)\n",
    "list_1.count(1)"
   ]
  },
  {
   "cell_type": "markdown",
   "id": "44eb51eb-4052-4fc3-bedd-3d7cf73dcf19",
   "metadata": {},
   "source": [
    "### Q8. Split a list into chunks of size n."
   ]
  },
  {
   "cell_type": "code",
   "execution_count": 35,
   "id": "86cee0a7-712e-473b-9b13-18aacb7fa0b4",
   "metadata": {},
   "outputs": [
    {
     "name": "stdout",
     "output_type": "stream",
     "text": [
      "[1, 9]\n",
      "[8, 4]\n",
      "[5, 6]\n"
     ]
    }
   ],
   "source": [
    "list_1=[1,9,8,4,5,6]\n",
    "n=2\n",
    "for i in range(0,len(list_1), n):\n",
    "    print(list_1[i:i+n])"
   ]
  },
  {
   "cell_type": "markdown",
   "id": "048d907b-e406-4c71-a20f-4d6c8c1e3a2e",
   "metadata": {},
   "source": [
    "### Q9. Find the longest increasing subsequence in a list."
   ]
  },
  {
   "cell_type": "code",
   "execution_count": 52,
   "id": "272cf0c9-48b7-4548-8052-1029bc54fc71",
   "metadata": {},
   "outputs": [
    {
     "name": "stdout",
     "output_type": "stream",
     "text": [
      "10\n",
      "22\n",
      "22\n",
      "33\n",
      "50\n"
     ]
    }
   ],
   "source": [
    "num = [10, 22, 9, 33, 21, 50, 41, 60, 80]\n",
    "seq=[]\n",
    "for i in range(len(num)):\n",
    "    for j in range(i, len(num)):\n",
    "        if num[i]>num[j]:\n",
    "            print(num[i])"
   ]
  },
  {
   "cell_type": "markdown",
   "id": "8391c809-11a1-4952-8462-70c60af7061c",
   "metadata": {},
   "source": [
    "### Q10. Remove all occurrences of a given element."
   ]
  },
  {
   "cell_type": "code",
   "execution_count": 60,
   "id": "3931970a-9eed-4b73-a5fb-598c38b32b5b",
   "metadata": {},
   "outputs": [
    {
     "data": {
      "text/plain": [
       "[1, 9, 8, 4, 6, 1, 2, 3, 1, 5, 89, 8, 65, 2, 5, 5, 4, 3, 5, 5]"
      ]
     },
     "execution_count": 60,
     "metadata": {},
     "output_type": "execute_result"
    }
   ],
   "source": [
    "list_1=[1,9,8,4,5,6,1,2,3,1,5,89,8,65,2,5,5,4,3,5,5,]\n",
    "list_1.remove(5)\n",
    "list_1"
   ]
  },
  {
   "cell_type": "code",
   "execution_count": 54,
   "id": "604541c1-2bb5-49da-bd2b-e8dbc535627d",
   "metadata": {},
   "outputs": [
    {
     "name": "stdout",
     "output_type": "stream",
     "text": [
      "1 9 8 4 6 1 2 3 1 89 8 65 2 4 3 "
     ]
    }
   ],
   "source": [
    "list_1=[1,9,8,4,5,6,1,2,3,1,5,89,8,65,2,5,5,4,3,5,5,]\n",
    "for i in list_1:\n",
    "    if i != 5:\n",
    "        print(i,end=' ')"
   ]
  },
  {
   "cell_type": "markdown",
   "id": "16c3d521-93b1-4bb8-ac91-479d886a6f79",
   "metadata": {},
   "source": [
    "### Q11. Partition a list into even and odd numbers."
   ]
  },
  {
   "cell_type": "code",
   "execution_count": 62,
   "id": "fafb419e-5310-498b-bc8b-454ff151ef57",
   "metadata": {},
   "outputs": [
    {
     "name": "stdout",
     "output_type": "stream",
     "text": [
      "[10, 22, 50, 60, 80]\n",
      "[9, 33, 21, 41]\n"
     ]
    }
   ],
   "source": [
    "num = [10, 22, 9, 33, 21, 50, 41, 60, 80]\n",
    "even=[]\n",
    "odd=[]\n",
    "for i in num:\n",
    "    if i%2==0:\n",
    "      even.append(i)\n",
    "    else:\n",
    "        odd.append(i)\n",
    "print(even)\n",
    "print(odd)"
   ]
  },
  {
   "cell_type": "markdown",
   "id": "34a3ef7e-1af1-4609-9a31-557ac3a6c9e7",
   "metadata": {},
   "source": [
    "### Q12. Find the second largest element in a list."
   ]
  },
  {
   "cell_type": "code",
   "execution_count": 64,
   "id": "b497c5e7-99ff-405c-b75f-b5167d8a2686",
   "metadata": {},
   "outputs": [
    {
     "data": {
      "text/plain": [
       "60"
      ]
     },
     "execution_count": 64,
     "metadata": {},
     "output_type": "execute_result"
    }
   ],
   "source": [
    "num = [10, 22, 9, 33, 21, 50, 41, 60, 80]\n",
    "sorted_num=sorted(num)\n",
    "sorted_num[-2]"
   ]
  },
  {
   "cell_type": "markdown",
   "id": "000715e6-361e-4de1-a2c9-ee3303e29d68",
   "metadata": {},
   "source": [
    "### Q14. Remove duplicates from a list without using set()."
   ]
  },
  {
   "cell_type": "code",
   "execution_count": 52,
   "id": "897bcec1-556f-43de-b3f9-bb36aa64df66",
   "metadata": {},
   "outputs": [
    {
     "data": {
      "text/plain": [
       "[10, 22, 9, 33, 41]"
      ]
     },
     "execution_count": 52,
     "metadata": {},
     "output_type": "execute_result"
    }
   ],
   "source": [
    "num = [10, 22, 9, 33, 21, 50, 41, 60, 80, 80,60,21,50]\n",
    "unique=[]\n",
    "for i in num:\n",
    "    if num.count(i)<2:\n",
    "        unique.append(i)\n",
    "\n",
    "unique"
   ]
  },
  {
   "cell_type": "markdown",
   "id": "69c5d1a9-af84-4b35-8559-7ca3126c0d92",
   "metadata": {},
   "source": [
    "### Q15. Find missing numbers in a range from a list."
   ]
  },
  {
   "cell_type": "code",
   "execution_count": 66,
   "id": "4acc6afd-1ad7-4714-992d-342ee5261904",
   "metadata": {},
   "outputs": [
    {
     "name": "stdout",
     "output_type": "stream",
     "text": [
      "2\n"
     ]
    }
   ],
   "source": [
    "l=[1,3,4,5,6,7,8,9,10]\n",
    "for i in range(1,11):\n",
    "    if i not in l:\n",
    "        print(i)"
   ]
  },
  {
   "cell_type": "markdown",
   "id": "e65e80b6-d8f6-421f-87b3-80ce4a4c97a9",
   "metadata": {},
   "source": [
    "### Q17. Find the product of all elements in a list."
   ]
  },
  {
   "cell_type": "code",
   "execution_count": 65,
   "id": "5ad54edc-1696-4ed5-b356-e642e3800433",
   "metadata": {},
   "outputs": [
    {
     "data": {
      "text/plain": [
       "1980"
      ]
     },
     "execution_count": 65,
     "metadata": {},
     "output_type": "execute_result"
    }
   ],
   "source": [
    "num = [10, 22, 9]\n",
    "count=1\n",
    "for i in num:\n",
    "    count*=i\n",
    "\n",
    "count"
   ]
  },
  {
   "cell_type": "markdown",
   "id": "746493e1-0538-4950-8099-94c97fc0a5f9",
   "metadata": {},
   "source": [
    "### Q18. Flatten a nested list."
   ]
  },
  {
   "cell_type": "code",
   "execution_count": 47,
   "id": "3a47aced-8a17-4414-93e8-3358aa167d28",
   "metadata": {},
   "outputs": [
    {
     "name": "stdout",
     "output_type": "stream",
     "text": [
      "1 13\n",
      "6 8\n"
     ]
    }
   ],
   "source": [
    "a=[1,13,12,6,8]\n",
    "for i in range(len(a)):\n",
    "    for j in range(i, len(a)):\n",
    "        if a[i]+a[j]==14:\n",
    "            print(a[i], a[j])"
   ]
  },
  {
   "cell_type": "markdown",
   "id": "00a9ed52-78b5-4feb-8415-a7c8f82ae7e9",
   "metadata": {},
   "source": [
    "### Q19. Find all pairs in a list that sum to a target value."
   ]
  },
  {
   "cell_type": "code",
   "execution_count": 62,
   "id": "d44cba36-985c-48cd-9f19-ed414fc405c9",
   "metadata": {},
   "outputs": [
    {
     "name": "stdout",
     "output_type": "stream",
     "text": [
      "10 22\n",
      "11 21\n"
     ]
    }
   ],
   "source": [
    "num = [10, 22,11,21,20,15]\n",
    "for i in range(len(num)):\n",
    "    for j in range(i+1, len(num)):\n",
    "        if num[i]+num[j]==32:\n",
    "            print(num[i],num[j])"
   ]
  },
  {
   "cell_type": "markdown",
   "id": "d9ebd247-d14b-4d4b-a483-2025fa906b20",
   "metadata": {},
   "source": [
    "### Q20. Find common elements between two lists."
   ]
  },
  {
   "cell_type": "code",
   "execution_count": 64,
   "id": "5e3d0b24-874c-4275-bb23-b86a832c2097",
   "metadata": {},
   "outputs": [
    {
     "name": "stdout",
     "output_type": "stream",
     "text": [
      "8 8\n",
      "4 4\n",
      "5 5\n",
      "6 6\n"
     ]
    }
   ],
   "source": [
    "list_1=[1,9,8,4,5,6]\n",
    "list_2=[10,90,8,4,5,6]\n",
    "for i in range(len(list_1)):\n",
    "    for j in range(len(list_2)):\n",
    "        if list_1[i]==list_2[j]:\n",
    "            print(list_1[i],list_2[j])"
   ]
  },
  {
   "cell_type": "markdown",
   "id": "b6a40008-257c-406c-aad7-fe771d968b00",
   "metadata": {},
   "source": [
    "### Q21. Merge two sorted lists into a single sorted list."
   ]
  },
  {
   "cell_type": "code",
   "execution_count": 48,
   "id": "be532be4-00fc-47f4-8530-763051fd5f21",
   "metadata": {},
   "outputs": [
    {
     "name": "stdout",
     "output_type": "stream",
     "text": [
      "[1, 4, 4, 5, 5, 6, 6, 8, 8, 9, 10, 90]\n"
     ]
    }
   ],
   "source": [
    "list_1=[1,9,8,4,5,6]\n",
    "list_2=[10,90,8,4,5,6]\n",
    "new_list=list_1+list_2\n",
    "sorted_new=sorted(new_list)\n",
    "print(sorted_new)"
   ]
  },
  {
   "cell_type": "markdown",
   "id": "85fe5c15-8ff9-4a65-81ab-608ccd5f8843",
   "metadata": {},
   "source": [
    "# Tuple"
   ]
  },
  {
   "cell_type": "markdown",
   "id": "7a28edc3-3cfb-48aa-a405-790c1a18e497",
   "metadata": {},
   "source": [
    "### Find the index of an element in a tuple."
   ]
  },
  {
   "cell_type": "code",
   "execution_count": 70,
   "id": "fda987dd-991a-4cc7-b930-f82ebb618f6f",
   "metadata": {},
   "outputs": [
    {
     "data": {
      "text/plain": [
       "0"
      ]
     },
     "execution_count": 70,
     "metadata": {},
     "output_type": "execute_result"
    }
   ],
   "source": [
    "tup=(1,9,8,4,5,6)\n",
    "tup.index(1)"
   ]
  },
  {
   "cell_type": "markdown",
   "id": "15286148-1655-433a-8e2a-62343290088b",
   "metadata": {},
   "source": [
    "### Convert a list to a tuple and vice versa."
   ]
  },
  {
   "cell_type": "code",
   "execution_count": 72,
   "id": "b34bc610-d5dc-4fab-9570-633dc4c67dc4",
   "metadata": {},
   "outputs": [
    {
     "name": "stdout",
     "output_type": "stream",
     "text": [
      "[1, 9, 8, 4, 5, 6]\n",
      "(1, 9, 8, 4, 5, 6)\n"
     ]
    }
   ],
   "source": [
    "tup=(1,9,8,4,5,6)\n",
    "lis=list(tup)\n",
    "print(lis)\n",
    "print(tuple(lis))"
   ]
  },
  {
   "cell_type": "markdown",
   "id": "b0ca2707-c43c-42f0-9466-c953dc264819",
   "metadata": {},
   "source": [
    "### Count how many times a value appears in a tuple.`"
   ]
  },
  {
   "cell_type": "code",
   "execution_count": 74,
   "id": "f4a39a90-5939-4c4c-932b-7754b8ca744a",
   "metadata": {},
   "outputs": [
    {
     "data": {
      "text/plain": [
       "{1: 1, 9: 1, 8: 1, 4: 1, 5: 1, 6: 2}"
      ]
     },
     "execution_count": 74,
     "metadata": {},
     "output_type": "execute_result"
    }
   ],
   "source": [
    "tup=(1,9,8,4,5,6,6)\n",
    "d={}\n",
    "for i in tup:\n",
    "    if i in d:\n",
    "        d[i]+=1\n",
    "    else:\n",
    "        d[i]=1\n",
    "\n",
    "d"
   ]
  },
  {
   "cell_type": "markdown",
   "id": "b42f00af-1972-4021-999e-d2087a39633e",
   "metadata": {},
   "source": [
    "### Concatenate two tuples."
   ]
  },
  {
   "cell_type": "code",
   "execution_count": 79,
   "id": "dbc6b827-8af5-42e0-bfd2-0fe056108124",
   "metadata": {},
   "outputs": [
    {
     "data": {
      "text/plain": [
       "(1, 9, 8, 4, 5, 6, 6, 32, 2, 58, 5, 5, 6)"
      ]
     },
     "execution_count": 79,
     "metadata": {},
     "output_type": "execute_result"
    }
   ],
   "source": [
    "tup1=(1,9,8,4,5,6,6)\n",
    "tup2=(32,2,58,5,5,6)\n",
    "tup=tup1+tup2\n",
    "tup"
   ]
  },
  {
   "cell_type": "markdown",
   "id": "33806a22-ae14-4906-8264-6c3dfab796b5",
   "metadata": {},
   "source": [
    "### Find the maximum and minimum element in a tuple."
   ]
  },
  {
   "cell_type": "code",
   "execution_count": 81,
   "id": "286fdc5c-6847-4e46-802d-6b28bb5949d8",
   "metadata": {},
   "outputs": [
    {
     "name": "stdout",
     "output_type": "stream",
     "text": [
      "1\n",
      "9\n"
     ]
    }
   ],
   "source": [
    "tup1=(1,9,8,4,5,6,6)\n",
    "print(min(tup1))\n",
    "print(max(tup1))"
   ]
  },
  {
   "cell_type": "markdown",
   "id": "395aa65c-4401-404c-bb45-10bab807042a",
   "metadata": {},
   "source": [
    "### Sort a tuple of integers."
   ]
  },
  {
   "cell_type": "code",
   "execution_count": 85,
   "id": "203cbc5a-f653-42e6-92dc-04d215d00d53",
   "metadata": {},
   "outputs": [
    {
     "data": {
      "text/plain": [
       "(1, 4, 5, 6, 6, 8, 9)"
      ]
     },
     "execution_count": 85,
     "metadata": {},
     "output_type": "execute_result"
    }
   ],
   "source": [
    "tup1=(1,9,8,4,5,6,6)\n",
    "sort_tup=tuple(sorted(tup1))\n",
    "sort_tup"
   ]
  },
  {
   "cell_type": "markdown",
   "id": "7b8faef5-cb42-41be-b937-7462d95ed083",
   "metadata": {},
   "source": [
    "### Replace an element in a tuple (hint: convert to list)."
   ]
  },
  {
   "cell_type": "code",
   "execution_count": 84,
   "id": "cb08567c-9e9a-4ca5-9760-cdec956924c1",
   "metadata": {},
   "outputs": [
    {
     "data": {
      "text/plain": [
       "[1, 4, 5, 6, 6, 8, 9]"
      ]
     },
     "execution_count": 84,
     "metadata": {},
     "output_type": "execute_result"
    }
   ],
   "source": [
    "tup1=(1,9,8,4,5,6,6)\n",
    "sorted(tup1)"
   ]
  },
  {
   "cell_type": "markdown",
   "id": "b2ff748e-4b50-4724-8e17-bea2b7becf7f",
   "metadata": {},
   "source": [
    "### Check if all elements in a tuple are the same."
   ]
  },
  {
   "cell_type": "code",
   "execution_count": 86,
   "id": "20df13e5-4219-4702-a5d3-52240281081a",
   "metadata": {},
   "outputs": [
    {
     "name": "stdout",
     "output_type": "stream",
     "text": [
      "True\n"
     ]
    }
   ],
   "source": [
    "tup1=(6,6,6,6)\n",
    "print(len(set(tup1))==1)"
   ]
  },
  {
   "cell_type": "markdown",
   "id": "ead56469-fd3e-4092-bcc6-3e91e1049275",
   "metadata": {},
   "source": [
    "### Unpack a tuple into variables."
   ]
  },
  {
   "cell_type": "code",
   "execution_count": 89,
   "id": "1300c489-8b8f-44e6-b85a-974237348694",
   "metadata": {},
   "outputs": [
    {
     "name": "stdout",
     "output_type": "stream",
     "text": [
      "a = 1\n",
      "b = 5\n",
      "c = 6\n"
     ]
    }
   ],
   "source": [
    "tup1=(1,5,6)\n",
    "a,b,c=tup1\n",
    "print('a =',a)\n",
    "print('b =',b)\n",
    "print('c =',c)"
   ]
  },
  {
   "cell_type": "markdown",
   "id": "b256a9bc-5fd3-4377-b748-f70eb8dc56c1",
   "metadata": {},
   "source": [
    "### Create a tuple of single elements from a list."
   ]
  },
  {
   "cell_type": "code",
   "execution_count": 97,
   "id": "21a85fb6-09bf-44a6-91ee-8111dcde2ec7",
   "metadata": {},
   "outputs": [
    {
     "name": "stdout",
     "output_type": "stream",
     "text": [
      "(1,)\n",
      "(9,)\n",
      "(8,)\n",
      "(4,)\n",
      "(5,)\n",
      "(6,)\n",
      "(6,)\n"
     ]
    }
   ],
   "source": [
    "tup1=[1,9,8,4,5,6,6]\n",
    "for i in tup1:\n",
    "    print(tuple((i,)))"
   ]
  },
  {
   "cell_type": "code",
   "execution_count": 95,
   "id": "9bce8746-1b1e-4d26-8374-f05092df0de6",
   "metadata": {},
   "outputs": [
    {
     "data": {
      "text/plain": [
       "((1,), (9,), (8,), (4,), (5,), (6,), (6,))"
      ]
     },
     "execution_count": 95,
     "metadata": {},
     "output_type": "execute_result"
    }
   ],
   "source": [
    "tup1=[1,9,8,4,5,6,6]\n",
    "tuple((i,) for i in tup1)"
   ]
  },
  {
   "cell_type": "markdown",
   "id": "0e40ba9a-f0e7-4670-823f-8a98b39976b2",
   "metadata": {},
   "source": [
    "### Multiply all elements in a tuple."
   ]
  },
  {
   "cell_type": "code",
   "execution_count": 100,
   "id": "22f49d45-4334-4007-8a24-df1840e8f716",
   "metadata": {},
   "outputs": [
    {
     "data": {
      "text/plain": [
       "54"
      ]
     },
     "execution_count": 100,
     "metadata": {},
     "output_type": "execute_result"
    }
   ],
   "source": [
    "tup1=(1,9,6)\n",
    "count=1\n",
    "for i in tup1:\n",
    "    count*=i\n",
    "\n",
    "count"
   ]
  },
  {
   "cell_type": "code",
   "execution_count": 99,
   "id": "899eae75-68ab-4da7-879c-41b6922d6006",
   "metadata": {},
   "outputs": [
    {
     "name": "stdout",
     "output_type": "stream",
     "text": [
      "2\n",
      "18\n",
      "16\n",
      "8\n",
      "10\n",
      "12\n",
      "12\n"
     ]
    }
   ],
   "source": [
    "tup1=(1,9,8,4,5,6,6)\n",
    "for i in tup1:\n",
    "    print(i*2)"
   ]
  },
  {
   "cell_type": "markdown",
   "id": "08108523-ca86-4031-a236-e1991eab504b",
   "metadata": {},
   "source": [
    "### Find common elements between two tuples."
   ]
  },
  {
   "cell_type": "code",
   "execution_count": 103,
   "id": "759d9c5f-a8c9-4b8b-8bbc-6e7ea27570ad",
   "metadata": {},
   "outputs": [
    {
     "name": "stdout",
     "output_type": "stream",
     "text": [
      "9\n",
      "4\n",
      "6\n",
      "6\n"
     ]
    }
   ],
   "source": [
    "tup1=(1,9,8,4,5,6,6)\n",
    "tup2=(10,9,18,14,12,6,4)\n",
    "for i in range(len(tup1)):\n",
    "    for j in range(len(tup2)):\n",
    "        if tup1[i]==tup2[j]:\n",
    "            print(tup[i])"
   ]
  },
  {
   "cell_type": "markdown",
   "id": "848640e5-b510-4c37-bd9e-2c4119c988c3",
   "metadata": {},
   "source": [
    "### Remove duplicates from a tuple."
   ]
  },
  {
   "cell_type": "code",
   "execution_count": 107,
   "id": "74ca0d29-be14-467f-b595-8d3620852b41",
   "metadata": {},
   "outputs": [
    {
     "data": {
      "text/plain": [
       "{1, 4, 5, 6, 8, 9}"
      ]
     },
     "execution_count": 107,
     "metadata": {},
     "output_type": "execute_result"
    }
   ],
   "source": [
    "tup1=(1,9,8,4,5,6,6)\n",
    "set(tup1)"
   ]
  },
  {
   "cell_type": "markdown",
   "id": "2e1505de-f2ca-4fb3-ad2f-bc91293a7f1c",
   "metadata": {},
   "source": [
    "### Find the length of a tuple without using len()."
   ]
  },
  {
   "cell_type": "code",
   "execution_count": 111,
   "id": "1ed51f70-1267-4153-a824-21b26ec00cc0",
   "metadata": {},
   "outputs": [
    {
     "data": {
      "text/plain": [
       "7"
      ]
     },
     "execution_count": 111,
     "metadata": {},
     "output_type": "execute_result"
    }
   ],
   "source": [
    "tup1=(1,9,8,4,5,6,6)\n",
    "length=0\n",
    "for i,v in enumerate(tup1):\n",
    "    length+=1\n",
    "\n",
    "length"
   ]
  },
  {
   "cell_type": "markdown",
   "id": "adf8f9fa-f2bb-4b03-8fc0-38199c34dcbb",
   "metadata": {},
   "source": [
    "### Merge tuples into a dictionary."
   ]
  },
  {
   "cell_type": "code",
   "execution_count": 112,
   "id": "b0a9e989-fca3-46c0-9683-6c62bfd44fef",
   "metadata": {},
   "outputs": [
    {
     "data": {
      "text/plain": [
       "{1: 2, 9: 18, 8: 16, 4: 8, 5: 10, 6: 12}"
      ]
     },
     "execution_count": 112,
     "metadata": {},
     "output_type": "execute_result"
    }
   ],
   "source": [
    "tup1=(1,9,8,4,5,6,6)\n",
    "tup2=(2,18,16,8,10,12,12)\n",
    "dict(zip(tup1, tup2))"
   ]
  },
  {
   "cell_type": "markdown",
   "id": "81d5de94-c3c0-4f15-8d86-4802608969a0",
   "metadata": {},
   "source": [
    "### Create a tuple of tuples from a list of lists."
   ]
  },
  {
   "cell_type": "code",
   "execution_count": 117,
   "id": "dbc062a8-59f8-4342-9f2b-3347e4534995",
   "metadata": {},
   "outputs": [
    {
     "name": "stdout",
     "output_type": "stream",
     "text": [
      "(1, 2)\n",
      "(3, 4)\n",
      "(5, 6)\n",
      "(7, 8)\n"
     ]
    },
    {
     "data": {
      "text/plain": [
       "((1, 2), (3, 4), (5, 6), (7, 8))"
      ]
     },
     "execution_count": 117,
     "metadata": {},
     "output_type": "execute_result"
    }
   ],
   "source": [
    "list_of_list=[[1, 2], [3, 4], [5, 6], [7, 8]]\n",
    "tup=[]\n",
    "for i in tup2:\n",
    "    print(tuple((i)))\n",
    "    tup.append(tuple((i)))\n",
    "\n",
    "tuple(tup)"
   ]
  },
  {
   "cell_type": "markdown",
   "id": "fc1826f0-6490-4668-9dad-dfad67134255",
   "metadata": {},
   "source": [
    "### Reverse a tuple."
   ]
  },
  {
   "cell_type": "code",
   "execution_count": null,
   "id": "3dc2b4fe-c041-4800-830d-daa878163e7e",
   "metadata": {},
   "outputs": [],
   "source": []
  },
  {
   "cell_type": "code",
   "execution_count": 118,
   "id": "7cb40128-7057-4ab4-b2dd-15d96a4b597c",
   "metadata": {},
   "outputs": [
    {
     "data": {
      "text/plain": [
       "(12, 12, 10, 8, 16, 18, 2)"
      ]
     },
     "execution_count": 118,
     "metadata": {},
     "output_type": "execute_result"
    }
   ],
   "source": [
    "tup2=(2,18,16,8,10,12,12)\n",
    "tup2[::-1]"
   ]
  },
  {
   "cell_type": "markdown",
   "id": "c7b91b10-a8fa-42db-8208-e767e41e7bbc",
   "metadata": {},
   "source": [
    "### Slice a tuple."
   ]
  },
  {
   "cell_type": "code",
   "execution_count": 128,
   "id": "3d7e66a5-9cec-47a3-be3d-1a305504eb9a",
   "metadata": {},
   "outputs": [
    {
     "data": {
      "text/plain": [
       "(2, 18, 16, 8, 10, 12, 12)"
      ]
     },
     "execution_count": 128,
     "metadata": {},
     "output_type": "execute_result"
    }
   ],
   "source": [
    "tup2=(2,18,16,8,10,12,12)\n",
    "tup2[0:]"
   ]
  },
  {
   "cell_type": "markdown",
   "id": "8374997b-d2b3-44b9-a0ef-e10c6d6c4d7a",
   "metadata": {},
   "source": [
    "### Check if a tuple is a palindrome."
   ]
  },
  {
   "cell_type": "code",
   "execution_count": 130,
   "id": "51a4d92a-d613-496b-a6a4-fc527231cf53",
   "metadata": {},
   "outputs": [
    {
     "name": "stdout",
     "output_type": "stream",
     "text": [
      "this is palindrome\n"
     ]
    }
   ],
   "source": [
    "tup2=(2,18,16,18,2)\n",
    "if tup2[0:]==tup2[::-1]:\n",
    "    print('this is palindrome')\n",
    "else:\n",
    "    print('not palindrome')"
   ]
  },
  {
   "cell_type": "markdown",
   "id": "f50a0b0b-3882-4092-8f96-b4f4e42f9c73",
   "metadata": {},
   "source": [
    "### Create a tuple containing only unique elements."
   ]
  },
  {
   "cell_type": "code",
   "execution_count": 50,
   "id": "5cd24d1a-7d1b-44ef-9dfd-69694cd3a551",
   "metadata": {},
   "outputs": [
    {
     "data": {
      "text/plain": [
       "((2, 5), (18, 10), (16, 8), (18, 7), (2, 9))"
      ]
     },
     "execution_count": 50,
     "metadata": {},
     "output_type": "execute_result"
    }
   ],
   "source": [
    "tup2=(2,18,16,18,2)\n",
    "tup3=(5,10,8,7,9)\n",
    "tup=tuple(zip(tup2, tup3))\n",
    "tup"
   ]
  },
  {
   "cell_type": "code",
   "execution_count": null,
   "id": "55fd8693-6b74-44b7-b4b4-a36c1cd8e947",
   "metadata": {},
   "outputs": [],
   "source": []
  },
  {
   "cell_type": "markdown",
   "id": "c30fa82b-6a2f-4014-b686-198c4f7ee626",
   "metadata": {},
   "source": [
    "### Merge two dictionaries."
   ]
  },
  {
   "cell_type": "code",
   "execution_count": 1,
   "id": "b5a9a7e9-90fc-4a24-91f0-e08914f7f937",
   "metadata": {},
   "outputs": [
    {
     "data": {
      "text/plain": [
       "{'c': 3, 'd': 4, 'a': 1, 'b': 2}"
      ]
     },
     "execution_count": 1,
     "metadata": {},
     "output_type": "execute_result"
    }
   ],
   "source": [
    "dic1={'c':3, 'd':4}\n",
    "dic2={'a':1, 'b':2}\n",
    "merge = dic1 | dic2\n",
    "merge"
   ]
  },
  {
   "cell_type": "markdown",
   "id": "e268f12d-9b58-4c5d-9eef-b3251bfd540d",
   "metadata": {},
   "source": [
    "### Sort a dictionary by keys.\n",
    "### Sort a dictionary by values."
   ]
  },
  {
   "cell_type": "code",
   "execution_count": 3,
   "id": "ea582a61-f821-4fda-b890-6db316825431",
   "metadata": {},
   "outputs": [
    {
     "name": "stdout",
     "output_type": "stream",
     "text": [
      "['a', 'b', 'c', 'd']\n",
      "[1, 2, 3, 4]\n"
     ]
    }
   ],
   "source": [
    "dic={'c':3, 'd':4,'a':1, 'b':2}\n",
    "print(sorted(dic.keys()))\n",
    "print(sorted(dic.values()))"
   ]
  },
  {
   "cell_type": "markdown",
   "id": "cf4bcf51-5d23-4e9e-98b6-9a05ebc290c5",
   "metadata": {},
   "source": [
    "### Invert a dictionary (swap keys and values)."
   ]
  },
  {
   "cell_type": "code",
   "execution_count": 3,
   "id": "f8e6cec0-9b37-4956-8ff5-1cf108a3f677",
   "metadata": {},
   "outputs": [
    {
     "data": {
      "text/plain": [
       "{'a': 1}"
      ]
     },
     "execution_count": 3,
     "metadata": {},
     "output_type": "execute_result"
    }
   ],
   "source": [
    "dic={1:'a'}\n",
    "swap={v:k for k,v in dic.items()}\n",
    "swap"
   ]
  },
  {
   "cell_type": "markdown",
   "id": "3476cd3b-c2ac-4d16-8c5e-b380b1b2090f",
   "metadata": {},
   "source": [
    "### Find the key with the maximum value in a dictionary."
   ]
  },
  {
   "cell_type": "code",
   "execution_count": 4,
   "id": "b476b090-ffa7-4c71-80a2-1fef5fb2fb2f",
   "metadata": {},
   "outputs": [
    {
     "data": {
      "text/plain": [
       "10"
      ]
     },
     "execution_count": 4,
     "metadata": {},
     "output_type": "execute_result"
    }
   ],
   "source": [
    "dic={'c':3, 'd':4,'a':1, 'b':2,'f':10}\n",
    "max(dic.values())"
   ]
  },
  {
   "cell_type": "markdown",
   "id": "74875a90-7468-4f37-9ef9-3d80b7d2581a",
   "metadata": {},
   "source": [
    "### Remove a key from a dictionary."
   ]
  },
  {
   "cell_type": "code",
   "execution_count": 10,
   "id": "a4b29583-db27-4415-80aa-ff3e90e9f3e7",
   "metadata": {},
   "outputs": [
    {
     "data": {
      "text/plain": [
       "{'d': 4, 'a': 1, 'b': 2, 'f': 10}"
      ]
     },
     "execution_count": 10,
     "metadata": {},
     "output_type": "execute_result"
    }
   ],
   "source": [
    "dic={'c':3, 'd':4,'a':1, 'b':2,'f':10}\n",
    "del dic['c']\n",
    "dic"
   ]
  },
  {
   "cell_type": "markdown",
   "id": "67fc0dd4-83a2-4083-bce2-d9c5dc0f3db0",
   "metadata": {},
   "source": [
    "### Update a value in a dictionary."
   ]
  },
  {
   "cell_type": "code",
   "execution_count": 14,
   "id": "65484284-e410-44c2-b914-b114dd16da1b",
   "metadata": {},
   "outputs": [
    {
     "data": {
      "text/plain": [
       "{'c': 6, 'd': 4, 'a': 1, 'b': 2, 'f': 10, 'g': 12}"
      ]
     },
     "execution_count": 14,
     "metadata": {},
     "output_type": "execute_result"
    }
   ],
   "source": [
    "dic={'c':3, 'd':4,'a':1, 'b':2,'f':10}\n",
    "dic['g']=12\n",
    "dic['c']=6\n",
    "dic"
   ]
  },
  {
   "cell_type": "markdown",
   "id": "92579224-aa68-4084-8939-de0f31953a3e",
   "metadata": {},
   "source": [
    "### Check if a key exists in a dictionary."
   ]
  },
  {
   "cell_type": "code",
   "execution_count": 15,
   "id": "6d4840b6-9ea1-41e0-89f9-cb77da2791e2",
   "metadata": {},
   "outputs": [
    {
     "name": "stdout",
     "output_type": "stream",
     "text": [
      "True\n"
     ]
    }
   ],
   "source": [
    "dic={'c':3, 'd':4,'a':1, 'b':2,'f':10}\n",
    "if 'a' in dic.keys():\n",
    "    print(True)\n",
    "else:\n",
    "    print(False)"
   ]
  },
  {
   "cell_type": "markdown",
   "id": "e3083293-7204-4891-82c4-81f958f92fc1",
   "metadata": {},
   "source": [
    "### Create a dictionary from two lists."
   ]
  },
  {
   "cell_type": "code",
   "execution_count": 38,
   "id": "d65d9373-9c4f-46a1-9cdd-3190163455c0",
   "metadata": {},
   "outputs": [
    {
     "data": {
      "text/plain": [
       "{'ten': 10, 'twelve': 12, 'thirteen': 13, 'fourtyone': 41}"
      ]
     },
     "execution_count": 38,
     "metadata": {},
     "output_type": "execute_result"
    }
   ],
   "source": [
    "l1=[10,12,13,41]\n",
    "l2=['ten', 'twelve', 'thirteen', 'fourtyone']\n",
    "dic1={}\n",
    "for k,v in zip(l2,l1):\n",
    "    if k in dic1:\n",
    "        dic1[k]=1\n",
    "    else:\n",
    "        dic1[k]=v\n",
    "\n",
    "dic1"
   ]
  },
  {
   "cell_type": "markdown",
   "id": "94af14ee-dd35-4beb-ab53-973896bbe722",
   "metadata": {},
   "source": [
    "### Create a nested dictionary."
   ]
  },
  {
   "cell_type": "code",
   "execution_count": 45,
   "id": "05db38d9-e3f4-4c15-8a19-883e53c610e9",
   "metadata": {},
   "outputs": [
    {
     "data": {
      "text/plain": [
       "22"
      ]
     },
     "execution_count": 45,
     "metadata": {},
     "output_type": "execute_result"
    }
   ],
   "source": [
    "dic1={'ten': 10, 'twelve': 12, 'thirteen': 13, 'fourtyone': 41}\n",
    "dic2={'ten': 10, 'twelve': 12}\n",
    "dic1['new_dict']=dic2\n",
    "dic3=dic1\n",
    "sum(dic3['new_dict'].values())"
   ]
  },
  {
   "cell_type": "markdown",
   "id": "46713182-cf59-47ba-8c1d-ea5bd1b9e57e",
   "metadata": {},
   "source": [
    "### Flatten a nested dictionary."
   ]
  },
  {
   "cell_type": "code",
   "execution_count": 49,
   "id": "3676843c-86d3-4236-8eca-ed3aff83cb21",
   "metadata": {},
   "outputs": [
    {
     "ename": "TypeError",
     "evalue": "isinstance() arg 2 must be a type, a tuple of types, or a union",
     "output_type": "error",
     "traceback": [
      "\u001b[1;31m---------------------------------------------------------------------------\u001b[0m",
      "\u001b[1;31mTypeError\u001b[0m                                 Traceback (most recent call last)",
      "Cell \u001b[1;32mIn[49], line 2\u001b[0m\n\u001b[0;32m      1\u001b[0m \u001b[38;5;28;01mfor\u001b[39;00m i \u001b[38;5;129;01min\u001b[39;00m dic3:\n\u001b[1;32m----> 2\u001b[0m     \u001b[38;5;28;01mif\u001b[39;00m \u001b[38;5;28misinstance\u001b[39m(\u001b[38;5;28mdict\u001b[39m, i):\n\u001b[0;32m      3\u001b[0m         \u001b[38;5;28mprint\u001b[39m(i)\n",
      "\u001b[1;31mTypeError\u001b[0m: isinstance() arg 2 must be a type, a tuple of types, or a union"
     ]
    }
   ],
   "source": []
  },
  {
   "cell_type": "markdown",
   "id": "b4be4c48-d57d-43d5-b66e-c6d9d63a2148",
   "metadata": {},
   "source": [
    "### Find the sum of all values in a dictionary."
   ]
  },
  {
   "cell_type": "code",
   "execution_count": null,
   "id": "fc0d13af-dba6-4ea5-a038-ecc1cd451080",
   "metadata": {},
   "outputs": [],
   "source": []
  },
  {
   "cell_type": "markdown",
   "id": "9f4eecfc-88ac-4f19-9548-bdd406264c1f",
   "metadata": {},
   "source": [
    "### Count word frequency in a sentence using a dictionary."
   ]
  },
  {
   "cell_type": "code",
   "execution_count": null,
   "id": "e68b8af3-14b6-4506-aeff-9333750fa5cc",
   "metadata": {},
   "outputs": [],
   "source": []
  },
  {
   "cell_type": "markdown",
   "id": "8b8be872-7893-4114-8caa-d5ccb0acd0b1",
   "metadata": {},
   "source": [
    "### Filter dictionary by values greater than a given number."
   ]
  },
  {
   "cell_type": "code",
   "execution_count": null,
   "id": "701cc42b-0502-4aba-a2b5-91a9057e5edc",
   "metadata": {},
   "outputs": [],
   "source": []
  },
  {
   "cell_type": "markdown",
   "id": "6c9133f1-9ffb-4dc5-a25e-58c13d27366c",
   "metadata": {},
   "source": [
    "### Get all keys with the same value in a dictionary."
   ]
  },
  {
   "cell_type": "code",
   "execution_count": null,
   "id": "c34d45d6-6d21-4991-a8d3-79470d22e2d0",
   "metadata": {},
   "outputs": [],
   "source": []
  },
  {
   "cell_type": "markdown",
   "id": "64417df8-c629-447d-b75a-2cb0f3614065",
   "metadata": {},
   "source": [
    "### Remove all items from a dictionary."
   ]
  },
  {
   "cell_type": "code",
   "execution_count": null,
   "id": "abc3f754-1f0a-4b27-a7ff-1ff8d007426e",
   "metadata": {},
   "outputs": [],
   "source": []
  },
  {
   "cell_type": "markdown",
   "id": "d21026e3-926d-404e-bd62-58fd52641e9c",
   "metadata": {},
   "source": [
    "### Create a dictionary with default values using fromkeys()."
   ]
  },
  {
   "cell_type": "code",
   "execution_count": null,
   "id": "01f20a72-d9b6-40de-b4a5-25f619e8f70e",
   "metadata": {},
   "outputs": [],
   "source": []
  },
  {
   "cell_type": "markdown",
   "id": "f6f93186-21f6-4f20-94cb-11c5ba239639",
   "metadata": {},
   "source": [
    "### Combine multiple dictionaries into one."
   ]
  },
  {
   "cell_type": "code",
   "execution_count": null,
   "id": "5713d2bd-48cc-41ab-a266-90d8b864d995",
   "metadata": {},
   "outputs": [],
   "source": []
  },
  {
   "cell_type": "markdown",
   "id": "1901cfe9-ae65-4d4d-b7e4-4e00ab80b0a3",
   "metadata": {},
   "source": [
    "### Create a dictionary of squares from 1 to n."
   ]
  },
  {
   "cell_type": "code",
   "execution_count": null,
   "id": "12605ef1-0985-48b4-9a91-ea4d3085c88d",
   "metadata": {},
   "outputs": [],
   "source": []
  }
 ],
 "metadata": {
  "kernelspec": {
   "display_name": "Python 3 (ipykernel)",
   "language": "python",
   "name": "python3"
  },
  "language_info": {
   "codemirror_mode": {
    "name": "ipython",
    "version": 3
   },
   "file_extension": ".py",
   "mimetype": "text/x-python",
   "name": "python",
   "nbconvert_exporter": "python",
   "pygments_lexer": "ipython3",
   "version": "3.12.7"
  }
 },
 "nbformat": 4,
 "nbformat_minor": 5
}
